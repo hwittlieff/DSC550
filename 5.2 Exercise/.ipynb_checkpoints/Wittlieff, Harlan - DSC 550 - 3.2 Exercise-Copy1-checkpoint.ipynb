{
 "cells": [
  {
   "cell_type": "markdown",
   "id": "3b0f5f96",
   "metadata": {},
   "source": [
    "# Assignment: Exercise 3.2\n",
    "# Class: DSC 550\n",
    "# Name: Wittlieff, Harlan\n",
    "# Date: 12/19/2021"
   ]
  },
  {
   "cell_type": "markdown",
   "id": "1e8fa3c0",
   "metadata": {},
   "source": [
    "## Part 1."
   ]
  },
  {
   "cell_type": "markdown",
   "id": "51f5a7d8",
   "metadata": {},
   "source": [
    "### 1. Import the movie review data as a data frame and ensure that the data is loaded properly."
   ]
  },
  {
   "cell_type": "code",
   "execution_count": 2,
   "id": "5999d599",
   "metadata": {},
   "outputs": [
    {
     "data": {
      "text/html": [
       "<div>\n",
       "<style scoped>\n",
       "    .dataframe tbody tr th:only-of-type {\n",
       "        vertical-align: middle;\n",
       "    }\n",
       "\n",
       "    .dataframe tbody tr th {\n",
       "        vertical-align: top;\n",
       "    }\n",
       "\n",
       "    .dataframe thead th {\n",
       "        text-align: right;\n",
       "    }\n",
       "</style>\n",
       "<table border=\"1\" class=\"dataframe\">\n",
       "  <thead>\n",
       "    <tr style=\"text-align: right;\">\n",
       "      <th></th>\n",
       "      <th>id</th>\n",
       "      <th>sentiment</th>\n",
       "      <th>review</th>\n",
       "    </tr>\n",
       "  </thead>\n",
       "  <tbody>\n",
       "    <tr>\n",
       "      <th>0</th>\n",
       "      <td>5814_8</td>\n",
       "      <td>1</td>\n",
       "      <td>With all this stuff going down at the moment w...</td>\n",
       "    </tr>\n",
       "    <tr>\n",
       "      <th>1</th>\n",
       "      <td>2381_9</td>\n",
       "      <td>1</td>\n",
       "      <td>\\The Classic War of the Worlds\\\" by Timothy Hi...</td>\n",
       "    </tr>\n",
       "    <tr>\n",
       "      <th>2</th>\n",
       "      <td>7759_3</td>\n",
       "      <td>0</td>\n",
       "      <td>The film starts with a manager (Nicholas Bell)...</td>\n",
       "    </tr>\n",
       "    <tr>\n",
       "      <th>3</th>\n",
       "      <td>3630_4</td>\n",
       "      <td>0</td>\n",
       "      <td>It must be assumed that those who praised this...</td>\n",
       "    </tr>\n",
       "    <tr>\n",
       "      <th>4</th>\n",
       "      <td>9495_8</td>\n",
       "      <td>1</td>\n",
       "      <td>Superbly trashy and wondrously unpretentious 8...</td>\n",
       "    </tr>\n",
       "  </tbody>\n",
       "</table>\n",
       "</div>"
      ],
      "text/plain": [
       "       id  sentiment                                             review\n",
       "0  5814_8          1  With all this stuff going down at the moment w...\n",
       "1  2381_9          1  \\The Classic War of the Worlds\\\" by Timothy Hi...\n",
       "2  7759_3          0  The film starts with a manager (Nicholas Bell)...\n",
       "3  3630_4          0  It must be assumed that those who praised this...\n",
       "4  9495_8          1  Superbly trashy and wondrously unpretentious 8..."
      ]
     },
     "execution_count": 2,
     "metadata": {},
     "output_type": "execute_result"
    }
   ],
   "source": [
    "# Import the pandas library\n",
    "import pandas as pd\n",
    "\n",
    "# Load the datafile\n",
    "df = pd.read_csv(r'Data/labeledTrainData.tsv', sep='\\t')\n",
    "\n",
    "# Validate the data loaded correctly\n",
    "df.head()"
   ]
  },
  {
   "cell_type": "markdown",
   "id": "242bc1b6",
   "metadata": {},
   "source": [
    "### 2. How many of each positive and negative reviews are there?"
   ]
  },
  {
   "cell_type": "code",
   "execution_count": 5,
   "id": "6f67924c",
   "metadata": {},
   "outputs": [
    {
     "data": {
      "text/plain": [
       "sentiment\n",
       "0    12500\n",
       "1    12500\n",
       "Name: id, dtype: int64"
      ]
     },
     "execution_count": 5,
     "metadata": {},
     "output_type": "execute_result"
    }
   ],
   "source": [
    "df.groupby('sentiment')['id'].count()"
   ]
  },
  {
   "cell_type": "markdown",
   "id": "e4606348",
   "metadata": {},
   "source": [
    "There are 12,500 negative (sentiment = 0) and 12,500 positive (sentiment = 1) reviews."
   ]
  },
  {
   "cell_type": "markdown",
   "id": "e33e400a",
   "metadata": {},
   "source": [
    "### 3. Use TextBlob to classify each movie review as positive or negative. Assume that a polarity score greater than or equal to zero is a positive sentiment and less than 0 is a negative sentiment."
   ]
  },
  {
   "cell_type": "code",
   "execution_count": 17,
   "id": "5c9a82f7",
   "metadata": {},
   "outputs": [],
   "source": [
    "# Import the textblob library\n",
    "from textblob import TextBlob\n",
    "\n",
    "# Add the TextBlob polarity to a new column\n",
    "df['tb_polarity'] = df['review'].apply(lambda review: TextBlob(review).sentiment.polarity)"
   ]
  },
  {
   "cell_type": "code",
   "execution_count": 46,
   "id": "ca7b8af5",
   "metadata": {},
   "outputs": [],
   "source": [
    "# Convert the polarity scores into sentiment scores (1=positive, 0=negative)\n",
    "def pos_or_neg (row):\n",
    "    if row < 0:\n",
    "        return 0\n",
    "    else:\n",
    "        return 1\n",
    "\n",
    "df['tb_sentiment'] = df['tb_polarity'].apply(lambda row: pos_or_neg(row))"
   ]
  },
  {
   "cell_type": "markdown",
   "id": "3b8a3a7b",
   "metadata": {},
   "source": [
    "### 4. Check the accuracy of this model. Is this model better than random guessing?"
   ]
  },
  {
   "cell_type": "code",
   "execution_count": 28,
   "id": "aa14ea12",
   "metadata": {},
   "outputs": [],
   "source": [
    "# Create a new column to calculate the change in sentiment. A value of 0 means the model scored correctly, a value of -1\n",
    "# means the model scored a positive review negatively, a value of 1 means the model scored a negative review positively.\n",
    "df['sentiment_change'] = df['tb_sentiment'] -df['sentiment']"
   ]
  },
  {
   "cell_type": "code",
   "execution_count": 29,
   "id": "54e6edd2",
   "metadata": {},
   "outputs": [
    {
     "data": {
      "text/plain": [
       "sentiment_change\n",
       "-1      676\n",
       " 0    17131\n",
       " 1     7193\n",
       "Name: id, dtype: int64"
      ]
     },
     "execution_count": 29,
     "metadata": {},
     "output_type": "execute_result"
    }
   ],
   "source": [
    "# Obtain the totals for each sentiment_change score\n",
    "df.groupby('sentiment_change')['id'].count()"
   ]
  },
  {
   "cell_type": "markdown",
   "id": "7a2017cf",
   "metadata": {},
   "source": [
    "Overally textblob accurately modeled 17,131 reviews. This gives a total accuracy of 68.5%. Random guessing would have only had an accuracy of 50% meaning that textblob's predictions are more accurate."
   ]
  },
  {
   "cell_type": "markdown",
   "id": "9f205558",
   "metadata": {},
   "source": [
    "### 5. For up to five points extra credit, use another prebuilt text sentiment analyzer, e.g., VADER, and repeat steps (3) and (4)."
   ]
  },
  {
   "cell_type": "code",
   "execution_count": 38,
   "id": "4ba6cc9f",
   "metadata": {},
   "outputs": [
    {
     "name": "stderr",
     "output_type": "stream",
     "text": [
      "[nltk_data] Downloading package vader_lexicon to\n",
      "[nltk_data]     C:\\Users\\wittl\\AppData\\Roaming\\nltk_data...\n"
     ]
    }
   ],
   "source": [
    "# Import library\n",
    "import nltk\n",
    "nltk.download('vader_lexicon')\n",
    "\n",
    "from nltk.sentiment.vader import SentimentIntensityAnalyzer\n",
    "\n",
    "sid = SentimentIntensityAnalyzer()"
   ]
  },
  {
   "cell_type": "code",
   "execution_count": 42,
   "id": "af30af63",
   "metadata": {},
   "outputs": [],
   "source": [
    "# Calculate scores\n",
    "df['v_scores'] = df['review'].apply(lambda review: sid.polarity_scores(review))\n",
    "df['v_compound'] = df['v_scores'].apply(lambda score_dict:score_dict['compound'])"
   ]
  },
  {
   "cell_type": "code",
   "execution_count": 48,
   "id": "921acb40",
   "metadata": {},
   "outputs": [],
   "source": [
    "# Convert the polarity scores into sentiment scores (1=positive, 0=negative)\n",
    "df['v_sentiment'] = df['v_compound'].apply(lambda row: pos_or_neg(row))"
   ]
  },
  {
   "cell_type": "code",
   "execution_count": 50,
   "id": "8d8dfa78",
   "metadata": {},
   "outputs": [],
   "source": [
    "# Create a new column to calculate the change in sentiment. A value of 0 means the model scored correctly, a value of -1\n",
    "# means the model scored a positive review negatively, a value of 1 means the model scored a negative review positively.\n",
    "df['v_sentiment_change'] = df['v_sentiment'] -df['sentiment']"
   ]
  },
  {
   "cell_type": "code",
   "execution_count": 51,
   "id": "ea9b7141",
   "metadata": {},
   "outputs": [
    {
     "data": {
      "text/plain": [
       "v_sentiment_change\n",
       "-1     1843\n",
       " 0    17339\n",
       " 1     5818\n",
       "Name: id, dtype: int64"
      ]
     },
     "execution_count": 51,
     "metadata": {},
     "output_type": "execute_result"
    }
   ],
   "source": [
    "# Obtain the totals for each sentiment_change score\n",
    "df.groupby('v_sentiment_change')['id'].count()"
   ]
  },
  {
   "cell_type": "markdown",
   "id": "bf27f59d",
   "metadata": {},
   "source": [
    "Overall the vader predictions are slightly more accurate for this data set. 17,339 accurate predictions (accuracy of 69.4%)"
   ]
  },
  {
   "cell_type": "markdown",
   "id": "28ff4b32",
   "metadata": {},
   "source": [
    "## Part 2."
   ]
  },
  {
   "cell_type": "markdown",
   "id": "012b2dbc",
   "metadata": {},
   "source": [
    "### 1. Convert all text to lowercase letters."
   ]
  },
  {
   "cell_type": "code",
   "execution_count": 55,
   "id": "613356d7",
   "metadata": {},
   "outputs": [],
   "source": [
    "# Reload the data set\n",
    "df_prep = pd.read_csv(r'Data/labeledTrainData.tsv', sep='\\t')\n",
    "\n",
    "# Convert the review field to lowercase\n",
    "df_prep.review = df_prep.review.str.lower()"
   ]
  },
  {
   "cell_type": "markdown",
   "id": "f9349761",
   "metadata": {},
   "source": [
    "### 2. Remove punctuation and special characters from the text."
   ]
  },
  {
   "cell_type": "code",
   "execution_count": 58,
   "id": "d051cc8d",
   "metadata": {},
   "outputs": [],
   "source": [
    "# import the string library\n",
    "import string\n",
    "\n",
    "# def formula to remove punctuation\n",
    "def remove_punctuation(text):\n",
    "    for punctuation in string.punctuation:\n",
    "        text = text.replace(punctuation, \"\")\n",
    "    return text\n",
    "\n",
    "df_prep.review = df_prep.review.apply(remove_punctuation)"
   ]
  },
  {
   "cell_type": "markdown",
   "id": "c7ffbe66",
   "metadata": {},
   "source": [
    "### 3. Remove stop words."
   ]
  },
  {
   "cell_type": "code",
   "execution_count": 63,
   "id": "2858b373",
   "metadata": {},
   "outputs": [],
   "source": [
    "# Load library\n",
    "from nltk.corpus import stopwords\n",
    "\n",
    "# Load stop words\n",
    "stop_words = stopwords.words('english')\n",
    "\n",
    "# Remove stop words\n",
    "df_prep['review'] = df_prep['review'].apply(lambda x: ' '.join([word for word in x.split() if word not in (stop_words)]))"
   ]
  },
  {
   "cell_type": "markdown",
   "id": "79d638c2",
   "metadata": {},
   "source": [
    "### 4. Apply NLTK's PorterStemmer"
   ]
  },
  {
   "cell_type": "code",
   "execution_count": 67,
   "id": "ea248fb9",
   "metadata": {},
   "outputs": [],
   "source": [
    "# Load library\n",
    "from nltk.stem.porter import PorterStemmer\n",
    "\n",
    "# Create Stemmer\n",
    "porter = PorterStemmer()\n",
    "\n",
    "# Apply stemmer\n",
    "df_prep['review'] = df_prep['review'].apply(lambda x: ' '.join([porter.stem(word) for word in x.split()]))"
   ]
  },
  {
   "cell_type": "markdown",
   "id": "ce4dd432",
   "metadata": {},
   "source": [
    "### 5. Create a bag-of-words matrix from your stemmed text (output from (4)), where each row is a word-count vector for a single movie review (see sections 5.3 & 6.8 in the Machine Learning with Python Cookbook). Display the dimensions of your bag-of-words matrix. The number of rows in this matrix should be the same as the number of rows in your original data frame."
   ]
  },
  {
   "cell_type": "code",
   "execution_count": 73,
   "id": "4b1f6aab",
   "metadata": {},
   "outputs": [
    {
     "data": {
      "text/plain": [
       "<25000x92379 sparse matrix of type '<class 'numpy.int64'>'\n",
       "\twith 2439461 stored elements in Compressed Sparse Row format>"
      ]
     },
     "execution_count": 73,
     "metadata": {},
     "output_type": "execute_result"
    }
   ],
   "source": [
    "# Load library\n",
    "from sklearn.feature_extraction.text import CountVectorizer\n",
    "\n",
    "# Create the bag of words feature matrix\n",
    "count = CountVectorizer()\n",
    "bag_of_words = count.fit_transform(df_prep.review)\n",
    "\n",
    "# Show dimensions of feature matrix\n",
    "bag_of_words"
   ]
  },
  {
   "cell_type": "markdown",
   "id": "7696e700",
   "metadata": {},
   "source": [
    "### 6. Create a term frequency-inverse document frequency (tf-idf) matrix from your stemmed text, for your movie reviews (see section 6.9 in the Machine Learning with Python Cookbook). Display the dimensions of your tf-idf matrix. These dimensions should be the same as your bag-of-words matrix."
   ]
  },
  {
   "cell_type": "code",
   "execution_count": 76,
   "id": "851dd792",
   "metadata": {},
   "outputs": [
    {
     "data": {
      "text/plain": [
       "<25000x92379 sparse matrix of type '<class 'numpy.float64'>'\n",
       "\twith 2439461 stored elements in Compressed Sparse Row format>"
      ]
     },
     "execution_count": 76,
     "metadata": {},
     "output_type": "execute_result"
    }
   ],
   "source": [
    "# Load Library\n",
    "from sklearn.feature_extraction.text import TfidfVectorizer\n",
    "\n",
    "# Create the tf-idf feature matrix\n",
    "tfidf = TfidfVectorizer()\n",
    "feature_matrix = tfidf.fit_transform(df_prep.review)\n",
    "\n",
    "# Show tf-idf feature matrix\n",
    "feature_matrix"
   ]
  }
 ],
 "metadata": {
  "kernelspec": {
   "display_name": "Python 3",
   "language": "python",
   "name": "python3"
  },
  "language_info": {
   "codemirror_mode": {
    "name": "ipython",
    "version": 3
   },
   "file_extension": ".py",
   "mimetype": "text/x-python",
   "name": "python",
   "nbconvert_exporter": "python",
   "pygments_lexer": "ipython3",
   "version": "3.8.8"
  }
 },
 "nbformat": 4,
 "nbformat_minor": 5
}
