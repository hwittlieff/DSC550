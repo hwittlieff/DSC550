{
 "cells": [
  {
   "cell_type": "markdown",
   "id": "3b0f5f96",
   "metadata": {},
   "source": [
    "# Assignment: Final Project\n",
    "# Class: DSC 550\n",
    "# Name: Wittlieff, Harlan\n",
    "# Date: 2/6/2022"
   ]
  },
  {
   "cell_type": "markdown",
   "id": "8ea4a0ec",
   "metadata": {},
   "source": [
    "# Project Milestone 1: Data Selection and EDA"
   ]
  },
  {
   "cell_type": "markdown",
   "id": "1bff7fbb",
   "metadata": {},
   "source": [
    "Many creative individuals dream of pitching their ideas for the next big television show to the major players at Netflix. These creators hope for the success of television series legends such as \"Law & Order,\" \"Game of Thrones,\" \"Breaking Bad,\" \"The Office\", and the longest running show with thirty-three seasons, \"The Simpsons.\" \n",
    "\n",
    "However, before green lighting a new show, Netflix must evaluate key factors to attempt to predict whether the tv series will be a smash hit that their audiences will select for viewing out of Netflix's massive catalog. One of these factors that must be considered is the cost of production. When estimating the total costs of producing the television series, Netflix would likely require a solid prediction and understanding of for how many seasons the television series will run. \n",
    "\n",
    "Through the meticulous analysis of historical television series performance data, Netflix may be able to predict for how many seasons their latest venture is anticipated to run. To achieve this goal, I begin with the Netflix Movies and TV Shows dataset on Kaggle. The data must be cleaned and the movie data removed. This step will leave only data on television shows. A new column must be added to call out the number of seasons that the series ran. \n",
    "\n",
    "Once the data is ready for analysis, numerous variables may be plotted to look for trends, correlation, and possibly establish causation. The trends in series runtime can be reviewed in a timeline looking back many years based on release year. Additionally, an average number of seasons by year may be calculated. The variable of TV ratings may also be investigated for a relation to the number of seasons. Finally, the data should also be reviewed for outliers through a box plot. \n",
    "\n",
    "With this analysis, I then plan to work towards determining whether the television series description can be linked to predicted series runtime in number of seasons. A regression model will be used from Netflix data to predict the total number of seasons."
   ]
  },
  {
   "cell_type": "markdown",
   "id": "4e55e346",
   "metadata": {},
   "source": [
    "## EDA"
   ]
  },
  {
   "cell_type": "markdown",
   "id": "d8dda3ed",
   "metadata": {},
   "source": [
    "### Data import & cleaning"
   ]
  },
  {
   "cell_type": "code",
   "execution_count": 2,
   "id": "efb82cb7",
   "metadata": {},
   "outputs": [],
   "source": [
    "# Load libraries\n",
    "import pandas as pd\n",
    "import matplotlib.pyplot as plt\n",
    "import numpy as np"
   ]
  },
  {
   "cell_type": "code",
   "execution_count": 3,
   "id": "7bab1cc1",
   "metadata": {},
   "outputs": [
    {
     "data": {
      "text/html": [
       "<div>\n",
       "<style scoped>\n",
       "    .dataframe tbody tr th:only-of-type {\n",
       "        vertical-align: middle;\n",
       "    }\n",
       "\n",
       "    .dataframe tbody tr th {\n",
       "        vertical-align: top;\n",
       "    }\n",
       "\n",
       "    .dataframe thead th {\n",
       "        text-align: right;\n",
       "    }\n",
       "</style>\n",
       "<table border=\"1\" class=\"dataframe\">\n",
       "  <thead>\n",
       "    <tr style=\"text-align: right;\">\n",
       "      <th></th>\n",
       "      <th>show_id</th>\n",
       "      <th>type</th>\n",
       "      <th>title</th>\n",
       "      <th>director</th>\n",
       "      <th>cast</th>\n",
       "      <th>country</th>\n",
       "      <th>date_added</th>\n",
       "      <th>release_year</th>\n",
       "      <th>rating</th>\n",
       "      <th>duration</th>\n",
       "      <th>listed_in</th>\n",
       "      <th>description</th>\n",
       "    </tr>\n",
       "  </thead>\n",
       "  <tbody>\n",
       "    <tr>\n",
       "      <th>0</th>\n",
       "      <td>s1</td>\n",
       "      <td>Movie</td>\n",
       "      <td>Dick Johnson Is Dead</td>\n",
       "      <td>Kirsten Johnson</td>\n",
       "      <td>NaN</td>\n",
       "      <td>United States</td>\n",
       "      <td>September 25, 2021</td>\n",
       "      <td>2020</td>\n",
       "      <td>PG-13</td>\n",
       "      <td>90 min</td>\n",
       "      <td>Documentaries</td>\n",
       "      <td>As her father nears the end of his life, filmm...</td>\n",
       "    </tr>\n",
       "    <tr>\n",
       "      <th>1</th>\n",
       "      <td>s2</td>\n",
       "      <td>TV Show</td>\n",
       "      <td>Blood &amp; Water</td>\n",
       "      <td>NaN</td>\n",
       "      <td>Ama Qamata, Khosi Ngema, Gail Mabalane, Thaban...</td>\n",
       "      <td>South Africa</td>\n",
       "      <td>September 24, 2021</td>\n",
       "      <td>2021</td>\n",
       "      <td>TV-MA</td>\n",
       "      <td>2 Seasons</td>\n",
       "      <td>International TV Shows, TV Dramas, TV Mysteries</td>\n",
       "      <td>After crossing paths at a party, a Cape Town t...</td>\n",
       "    </tr>\n",
       "    <tr>\n",
       "      <th>2</th>\n",
       "      <td>s3</td>\n",
       "      <td>TV Show</td>\n",
       "      <td>Ganglands</td>\n",
       "      <td>Julien Leclercq</td>\n",
       "      <td>Sami Bouajila, Tracy Gotoas, Samuel Jouy, Nabi...</td>\n",
       "      <td>NaN</td>\n",
       "      <td>September 24, 2021</td>\n",
       "      <td>2021</td>\n",
       "      <td>TV-MA</td>\n",
       "      <td>1 Season</td>\n",
       "      <td>Crime TV Shows, International TV Shows, TV Act...</td>\n",
       "      <td>To protect his family from a powerful drug lor...</td>\n",
       "    </tr>\n",
       "    <tr>\n",
       "      <th>3</th>\n",
       "      <td>s4</td>\n",
       "      <td>TV Show</td>\n",
       "      <td>Jailbirds New Orleans</td>\n",
       "      <td>NaN</td>\n",
       "      <td>NaN</td>\n",
       "      <td>NaN</td>\n",
       "      <td>September 24, 2021</td>\n",
       "      <td>2021</td>\n",
       "      <td>TV-MA</td>\n",
       "      <td>1 Season</td>\n",
       "      <td>Docuseries, Reality TV</td>\n",
       "      <td>Feuds, flirtations and toilet talk go down amo...</td>\n",
       "    </tr>\n",
       "    <tr>\n",
       "      <th>4</th>\n",
       "      <td>s5</td>\n",
       "      <td>TV Show</td>\n",
       "      <td>Kota Factory</td>\n",
       "      <td>NaN</td>\n",
       "      <td>Mayur More, Jitendra Kumar, Ranjan Raj, Alam K...</td>\n",
       "      <td>India</td>\n",
       "      <td>September 24, 2021</td>\n",
       "      <td>2021</td>\n",
       "      <td>TV-MA</td>\n",
       "      <td>2 Seasons</td>\n",
       "      <td>International TV Shows, Romantic TV Shows, TV ...</td>\n",
       "      <td>In a city of coaching centers known to train I...</td>\n",
       "    </tr>\n",
       "  </tbody>\n",
       "</table>\n",
       "</div>"
      ],
      "text/plain": [
       "  show_id     type                  title         director  \\\n",
       "0      s1    Movie   Dick Johnson Is Dead  Kirsten Johnson   \n",
       "1      s2  TV Show          Blood & Water              NaN   \n",
       "2      s3  TV Show              Ganglands  Julien Leclercq   \n",
       "3      s4  TV Show  Jailbirds New Orleans              NaN   \n",
       "4      s5  TV Show           Kota Factory              NaN   \n",
       "\n",
       "                                                cast        country  \\\n",
       "0                                                NaN  United States   \n",
       "1  Ama Qamata, Khosi Ngema, Gail Mabalane, Thaban...   South Africa   \n",
       "2  Sami Bouajila, Tracy Gotoas, Samuel Jouy, Nabi...            NaN   \n",
       "3                                                NaN            NaN   \n",
       "4  Mayur More, Jitendra Kumar, Ranjan Raj, Alam K...          India   \n",
       "\n",
       "           date_added  release_year rating   duration  \\\n",
       "0  September 25, 2021          2020  PG-13     90 min   \n",
       "1  September 24, 2021          2021  TV-MA  2 Seasons   \n",
       "2  September 24, 2021          2021  TV-MA   1 Season   \n",
       "3  September 24, 2021          2021  TV-MA   1 Season   \n",
       "4  September 24, 2021          2021  TV-MA  2 Seasons   \n",
       "\n",
       "                                           listed_in  \\\n",
       "0                                      Documentaries   \n",
       "1    International TV Shows, TV Dramas, TV Mysteries   \n",
       "2  Crime TV Shows, International TV Shows, TV Act...   \n",
       "3                             Docuseries, Reality TV   \n",
       "4  International TV Shows, Romantic TV Shows, TV ...   \n",
       "\n",
       "                                         description  \n",
       "0  As her father nears the end of his life, filmm...  \n",
       "1  After crossing paths at a party, a Cape Town t...  \n",
       "2  To protect his family from a powerful drug lor...  \n",
       "3  Feuds, flirtations and toilet talk go down amo...  \n",
       "4  In a city of coaching centers known to train I...  "
      ]
     },
     "execution_count": 3,
     "metadata": {},
     "output_type": "execute_result"
    }
   ],
   "source": [
    "# Load the datafile\n",
    "df = pd.read_csv(r'Data/netflix_titles.csv')\n",
    "\n",
    "# Validate the data loaded correctly\n",
    "df.head()"
   ]
  },
  {
   "cell_type": "code",
   "execution_count": 4,
   "id": "7a7b0c38",
   "metadata": {},
   "outputs": [
    {
     "data": {
      "text/plain": [
       "array(['TV Show'], dtype=object)"
      ]
     },
     "execution_count": 4,
     "metadata": {},
     "output_type": "execute_result"
    }
   ],
   "source": [
    "# Keep only type=\"TV Show\" from the original data\n",
    "df = df[df['type']=='TV Show']\n",
    "\n",
    "# Validate transformation\n",
    "df['type'].unique()"
   ]
  },
  {
   "cell_type": "code",
   "execution_count": 5,
   "id": "96b5fc01",
   "metadata": {},
   "outputs": [
    {
     "data": {
      "text/html": [
       "<div>\n",
       "<style scoped>\n",
       "    .dataframe tbody tr th:only-of-type {\n",
       "        vertical-align: middle;\n",
       "    }\n",
       "\n",
       "    .dataframe tbody tr th {\n",
       "        vertical-align: top;\n",
       "    }\n",
       "\n",
       "    .dataframe thead th {\n",
       "        text-align: right;\n",
       "    }\n",
       "</style>\n",
       "<table border=\"1\" class=\"dataframe\">\n",
       "  <thead>\n",
       "    <tr style=\"text-align: right;\">\n",
       "      <th></th>\n",
       "      <th>show_id</th>\n",
       "      <th>type</th>\n",
       "      <th>title</th>\n",
       "      <th>director</th>\n",
       "      <th>cast</th>\n",
       "      <th>country</th>\n",
       "      <th>date_added</th>\n",
       "      <th>release_year</th>\n",
       "      <th>rating</th>\n",
       "      <th>duration</th>\n",
       "      <th>listed_in</th>\n",
       "      <th>description</th>\n",
       "      <th>seasons</th>\n",
       "    </tr>\n",
       "  </thead>\n",
       "  <tbody>\n",
       "    <tr>\n",
       "      <th>1</th>\n",
       "      <td>s2</td>\n",
       "      <td>TV Show</td>\n",
       "      <td>Blood &amp; Water</td>\n",
       "      <td>NaN</td>\n",
       "      <td>Ama Qamata, Khosi Ngema, Gail Mabalane, Thaban...</td>\n",
       "      <td>South Africa</td>\n",
       "      <td>September 24, 2021</td>\n",
       "      <td>2021</td>\n",
       "      <td>TV-MA</td>\n",
       "      <td>2 Seasons</td>\n",
       "      <td>International TV Shows, TV Dramas, TV Mysteries</td>\n",
       "      <td>After crossing paths at a party, a Cape Town t...</td>\n",
       "      <td>2</td>\n",
       "    </tr>\n",
       "    <tr>\n",
       "      <th>2</th>\n",
       "      <td>s3</td>\n",
       "      <td>TV Show</td>\n",
       "      <td>Ganglands</td>\n",
       "      <td>Julien Leclercq</td>\n",
       "      <td>Sami Bouajila, Tracy Gotoas, Samuel Jouy, Nabi...</td>\n",
       "      <td>NaN</td>\n",
       "      <td>September 24, 2021</td>\n",
       "      <td>2021</td>\n",
       "      <td>TV-MA</td>\n",
       "      <td>1 Season</td>\n",
       "      <td>Crime TV Shows, International TV Shows, TV Act...</td>\n",
       "      <td>To protect his family from a powerful drug lor...</td>\n",
       "      <td>1</td>\n",
       "    </tr>\n",
       "    <tr>\n",
       "      <th>3</th>\n",
       "      <td>s4</td>\n",
       "      <td>TV Show</td>\n",
       "      <td>Jailbirds New Orleans</td>\n",
       "      <td>NaN</td>\n",
       "      <td>NaN</td>\n",
       "      <td>NaN</td>\n",
       "      <td>September 24, 2021</td>\n",
       "      <td>2021</td>\n",
       "      <td>TV-MA</td>\n",
       "      <td>1 Season</td>\n",
       "      <td>Docuseries, Reality TV</td>\n",
       "      <td>Feuds, flirtations and toilet talk go down amo...</td>\n",
       "      <td>1</td>\n",
       "    </tr>\n",
       "    <tr>\n",
       "      <th>4</th>\n",
       "      <td>s5</td>\n",
       "      <td>TV Show</td>\n",
       "      <td>Kota Factory</td>\n",
       "      <td>NaN</td>\n",
       "      <td>Mayur More, Jitendra Kumar, Ranjan Raj, Alam K...</td>\n",
       "      <td>India</td>\n",
       "      <td>September 24, 2021</td>\n",
       "      <td>2021</td>\n",
       "      <td>TV-MA</td>\n",
       "      <td>2 Seasons</td>\n",
       "      <td>International TV Shows, Romantic TV Shows, TV ...</td>\n",
       "      <td>In a city of coaching centers known to train I...</td>\n",
       "      <td>2</td>\n",
       "    </tr>\n",
       "    <tr>\n",
       "      <th>5</th>\n",
       "      <td>s6</td>\n",
       "      <td>TV Show</td>\n",
       "      <td>Midnight Mass</td>\n",
       "      <td>Mike Flanagan</td>\n",
       "      <td>Kate Siegel, Zach Gilford, Hamish Linklater, H...</td>\n",
       "      <td>NaN</td>\n",
       "      <td>September 24, 2021</td>\n",
       "      <td>2021</td>\n",
       "      <td>TV-MA</td>\n",
       "      <td>1 Season</td>\n",
       "      <td>TV Dramas, TV Horror, TV Mysteries</td>\n",
       "      <td>The arrival of a charismatic young priest brin...</td>\n",
       "      <td>1</td>\n",
       "    </tr>\n",
       "  </tbody>\n",
       "</table>\n",
       "</div>"
      ],
      "text/plain": [
       "  show_id     type                  title         director  \\\n",
       "1      s2  TV Show          Blood & Water              NaN   \n",
       "2      s3  TV Show              Ganglands  Julien Leclercq   \n",
       "3      s4  TV Show  Jailbirds New Orleans              NaN   \n",
       "4      s5  TV Show           Kota Factory              NaN   \n",
       "5      s6  TV Show          Midnight Mass    Mike Flanagan   \n",
       "\n",
       "                                                cast       country  \\\n",
       "1  Ama Qamata, Khosi Ngema, Gail Mabalane, Thaban...  South Africa   \n",
       "2  Sami Bouajila, Tracy Gotoas, Samuel Jouy, Nabi...           NaN   \n",
       "3                                                NaN           NaN   \n",
       "4  Mayur More, Jitendra Kumar, Ranjan Raj, Alam K...         India   \n",
       "5  Kate Siegel, Zach Gilford, Hamish Linklater, H...           NaN   \n",
       "\n",
       "           date_added  release_year rating   duration  \\\n",
       "1  September 24, 2021          2021  TV-MA  2 Seasons   \n",
       "2  September 24, 2021          2021  TV-MA   1 Season   \n",
       "3  September 24, 2021          2021  TV-MA   1 Season   \n",
       "4  September 24, 2021          2021  TV-MA  2 Seasons   \n",
       "5  September 24, 2021          2021  TV-MA   1 Season   \n",
       "\n",
       "                                           listed_in  \\\n",
       "1    International TV Shows, TV Dramas, TV Mysteries   \n",
       "2  Crime TV Shows, International TV Shows, TV Act...   \n",
       "3                             Docuseries, Reality TV   \n",
       "4  International TV Shows, Romantic TV Shows, TV ...   \n",
       "5                 TV Dramas, TV Horror, TV Mysteries   \n",
       "\n",
       "                                         description  seasons  \n",
       "1  After crossing paths at a party, a Cape Town t...        2  \n",
       "2  To protect his family from a powerful drug lor...        1  \n",
       "3  Feuds, flirtations and toilet talk go down amo...        1  \n",
       "4  In a city of coaching centers known to train I...        2  \n",
       "5  The arrival of a charismatic young priest brin...        1  "
      ]
     },
     "execution_count": 5,
     "metadata": {},
     "output_type": "execute_result"
    }
   ],
   "source": [
    "# Create a new column for number of seasons\n",
    "df['seasons'] = df['duration'].str.split(' ').str[0].astype(int)\n",
    "\n",
    "# Validate transformation\n",
    "df.head()"
   ]
  },
  {
   "cell_type": "markdown",
   "id": "478d1a45",
   "metadata": {},
   "source": [
    "### Release Year vs Number of Seasons"
   ]
  },
  {
   "cell_type": "code",
   "execution_count": 6,
   "id": "cc03ffa4",
   "metadata": {},
   "outputs": [
    {
     "data": {
      "image/png": "[encoded data removed]",
      "text/plain": [
       "<Figure size 432x288 with 1 Axes>"
      ]
     },
     "metadata": {
      "needs_background": "light"
     },
     "output_type": "display_data"
    }
   ],
   "source": [
    "# Create a scatter plot of release_year vs seasons\n",
    "fig=plt.figure()\n",
    "ax=fig.add_axes([0, 0, 1, 1])\n",
    "ax.scatter(df['release_year'], df['seasons'], color='r')\n",
    "ax.set_xlabel('Release Year')\n",
    "ax.set_ylabel('Number of Seasons')\n",
    "ax.set_title('Netflix TV Shows by Year & Number of Seasons')\n",
    "plt.show()"
   ]
  },
  {
   "cell_type": "markdown",
   "id": "beec6dd6",
   "metadata": {},
   "source": [
    "This first graph simply charts the number of seasons & year of release for each TV show in Netflix's library. As time has progressed, more TV shows are made with wider distribution in their overall number of seasons"
   ]
  },
  {
   "cell_type": "markdown",
   "id": "dae1ce55",
   "metadata": {},
   "source": [
    "### Rating vs Number of Seasons"
   ]
  },
  {
   "cell_type": "code",
   "execution_count": 7,
   "id": "a9634ec3",
   "metadata": {},
   "outputs": [
    {
     "data": {
      "text/plain": [
       "TV-MA       1145\n",
       "TV-14        733\n",
       "TV-PG        323\n",
       "TV-Y7        195\n",
       "TV-Y         176\n",
       "TV-G          94\n",
       "NR             5\n",
       "R              2\n",
       "TV-Y7-FV       1\n",
       "Name: rating, dtype: int64"
      ]
     },
     "execution_count": 7,
     "metadata": {},
     "output_type": "execute_result"
    }
   ],
   "source": [
    "# Obtain the number of occurences of each rating\n",
    "df['rating'].value_counts()"
   ]
  },
  {
   "cell_type": "markdown",
   "id": "b60ec821",
   "metadata": {},
   "source": [
    "Note: NR, R, & TV-Y7-FV will be excluded due to their low number of occurences"
   ]
  },
  {
   "cell_type": "code",
   "execution_count": 8,
   "id": "7654fe08",
   "metadata": {},
   "outputs": [],
   "source": [
    "# Seperate seasons by tv rating\n",
    "tvma = df.loc[df['rating'] == 'TV-MA','seasons']\n",
    "tv14 = df.loc[df['rating'] == 'TV-14','seasons']\n",
    "tvy7 = df.loc[df['rating'] == 'TV-Y7','seasons']\n",
    "tvy = df.loc[df['rating'] == 'TV-Y','seasons']\n",
    "tv6 = df.loc[df['rating'] == 'TV-G','seasons']"
   ]
  },
  {
   "cell_type": "code",
   "execution_count": 9,
   "id": "ad0ec6e4",
   "metadata": {},
   "outputs": [
    {
     "data": {
      "text/plain": [
       "<function matplotlib.pyplot.show(close=None, block=None)>"
      ]
     },
     "execution_count": 9,
     "metadata": {},
     "output_type": "execute_result"
    },
    {
     "data": {
      "image/png": "[encoded data removed]",
      "text/plain": [
       "<Figure size 432x288 with 1 Axes>"
      ]
     },
     "metadata": {
      "needs_background": "light"
     },
     "output_type": "display_data"
    }
   ],
   "source": [
    "# Create Box Plot of seasons by rating\n",
    "fix, ax = plt.subplots()\n",
    "tvma_bp = ax.boxplot(tvma, positions=[2], widths = 1.5, patch_artist=True,\n",
    "                showmeans=False, showfliers=False, medianprops={\"color\": \"white\", \"linewidth\": 0.5},\n",
    "                boxprops={\"facecolor\": \"C5\", \"edgecolor\": \"white\",\n",
    "                          \"linewidth\": 0.5},\n",
    "                whiskerprops={\"color\": \"C5\", \"linewidth\": 1.5},\n",
    "                capprops={\"color\": \"C5\", \"linewidth\": 1.5})\n",
    "tv14_bp = ax.boxplot(tv14, positions=[4], widths = 1.5, patch_artist=True,\n",
    "                showmeans=False, showfliers=False, medianprops={\"color\": \"white\", \"linewidth\": 0.5},\n",
    "                boxprops={\"facecolor\": \"C4\", \"edgecolor\": \"white\",\n",
    "                          \"linewidth\": 0.5},\n",
    "                whiskerprops={\"color\": \"C4\", \"linewidth\": 1.5},\n",
    "                capprops={\"color\": \"C4\", \"linewidth\": 1.5})\n",
    "tvy7_bp = ax.boxplot(tvy7, positions=[6], widths = 1.5, patch_artist=True,\n",
    "                showmeans=False, showfliers=False, medianprops={\"color\": \"white\", \"linewidth\": 0.5},\n",
    "                boxprops={\"facecolor\": \"C1\", \"edgecolor\": \"white\",\n",
    "                          \"linewidth\": 0.5},\n",
    "                whiskerprops={\"color\": \"C1\", \"linewidth\": 1.5},\n",
    "                capprops={\"color\": \"C1\", \"linewidth\": 1.5})\n",
    "tv7_bp = ax.boxplot(tvy, positions=[8], widths = 1.5, patch_artist=True,\n",
    "                showmeans=False, showfliers=False, medianprops={\"color\": \"white\", \"linewidth\": 0.5},\n",
    "                boxprops={\"facecolor\": \"C2\", \"edgecolor\": \"white\",\n",
    "                          \"linewidth\": 0.5},\n",
    "                whiskerprops={\"color\": \"C2\", \"linewidth\": 1.5},\n",
    "                capprops={\"color\": \"C2\", \"linewidth\": 1.5})\n",
    "tv6_bp = ax.boxplot(tv6, positions=[10], widths = 1.5, patch_artist=True,\n",
    "                showmeans=False, showfliers=False, medianprops={\"color\": \"white\", \"linewidth\": 0.5},\n",
    "                boxprops={\"facecolor\": \"C3\", \"edgecolor\": \"white\",\n",
    "                          \"linewidth\": 0.5},\n",
    "                whiskerprops={\"color\": \"C3\", \"linewidth\": 1.5},\n",
    "                capprops={\"color\": \"C3\", \"linewidth\": 1.5})\n",
    "ax.axes.xaxis.set_visible(False)\n",
    "ax.axes.set_ylabel('Number of Seasons')\n",
    "ax.axes.set_title('Seasons by TV Rating')\n",
    "ax.legend([tvma_bp[\"boxes\"][0], tv14_bp[\"boxes\"][0], tvy7_bp[\"boxes\"][0], tv7_bp[\"boxes\"][0], tv6_bp[\"boxes\"][0]], \n",
    "          [\"tvma\", \"tv14\", \"tvy7\", \"tv7\", \"tv6\"], loc='upper right')\n",
    "plt.show"
   ]
  },
  {
   "cell_type": "markdown",
   "id": "0c86de23",
   "metadata": {},
   "source": [
    "Each rating follows the same distribution. This trait more than likely does not have a big impact on the total duration of the series."
   ]
  },
  {
   "cell_type": "markdown",
   "id": "9365b299",
   "metadata": {},
   "source": [
    "### Distribution of Number of Seasons"
   ]
  },
  {
   "cell_type": "code",
   "execution_count": 45,
   "id": "691b7c41",
   "metadata": {},
   "outputs": [
    {
     "data": {
      "image/png": "[encoded data removed]",
      "text/plain": [
       "<Figure size 432x288 with 1 Axes>"
      ]
     },
     "metadata": {
      "needs_background": "light"
     },
     "output_type": "display_data"
    }
   ],
   "source": [
    "# Create a boxplot of the number of seasons\n",
    "plt.boxplot(df['seasons'])\n",
    "plt.title('Netflix TV Show Durations')\n",
    "plt.ylabel('Number of Seasons')\n",
    "plt.show()"
   ]
  },
  {
   "cell_type": "markdown",
   "id": "4881f49d",
   "metadata": {},
   "source": [
    "Most shows are two seasons or less in this data. This may be due to shows that are still being produced. During the analysis the impact of such shows will have to be explored."
   ]
  },
  {
   "cell_type": "markdown",
   "id": "ef9ea4e1",
   "metadata": {},
   "source": [
    "### Average Show Duration by Year"
   ]
  },
  {
   "cell_type": "code",
   "execution_count": 11,
   "id": "25be2171",
   "metadata": {},
   "outputs": [
    {
     "data": {
      "text/html": [
       "<div>\n",
       "<style scoped>\n",
       "    .dataframe tbody tr th:only-of-type {\n",
       "        vertical-align: middle;\n",
       "    }\n",
       "\n",
       "    .dataframe tbody tr th {\n",
       "        vertical-align: top;\n",
       "    }\n",
       "\n",
       "    .dataframe thead th {\n",
       "        text-align: right;\n",
       "    }\n",
       "</style>\n",
       "<table border=\"1\" class=\"dataframe\">\n",
       "  <thead>\n",
       "    <tr style=\"text-align: right;\">\n",
       "      <th></th>\n",
       "      <th>release_year</th>\n",
       "      <th>seasons</th>\n",
       "    </tr>\n",
       "  </thead>\n",
       "  <tbody>\n",
       "    <tr>\n",
       "      <th>0</th>\n",
       "      <td>1925</td>\n",
       "      <td>1.000000</td>\n",
       "    </tr>\n",
       "    <tr>\n",
       "      <th>1</th>\n",
       "      <td>1945</td>\n",
       "      <td>1.000000</td>\n",
       "    </tr>\n",
       "    <tr>\n",
       "      <th>2</th>\n",
       "      <td>1946</td>\n",
       "      <td>1.000000</td>\n",
       "    </tr>\n",
       "    <tr>\n",
       "      <th>3</th>\n",
       "      <td>1963</td>\n",
       "      <td>4.000000</td>\n",
       "    </tr>\n",
       "    <tr>\n",
       "      <th>4</th>\n",
       "      <td>1967</td>\n",
       "      <td>8.000000</td>\n",
       "    </tr>\n",
       "    <tr>\n",
       "      <th>5</th>\n",
       "      <td>1972</td>\n",
       "      <td>1.000000</td>\n",
       "    </tr>\n",
       "    <tr>\n",
       "      <th>6</th>\n",
       "      <td>1974</td>\n",
       "      <td>4.000000</td>\n",
       "    </tr>\n",
       "    <tr>\n",
       "      <th>7</th>\n",
       "      <td>1977</td>\n",
       "      <td>10.000000</td>\n",
       "    </tr>\n",
       "    <tr>\n",
       "      <th>8</th>\n",
       "      <td>1979</td>\n",
       "      <td>1.000000</td>\n",
       "    </tr>\n",
       "    <tr>\n",
       "      <th>9</th>\n",
       "      <td>1981</td>\n",
       "      <td>1.000000</td>\n",
       "    </tr>\n",
       "    <tr>\n",
       "      <th>10</th>\n",
       "      <td>1985</td>\n",
       "      <td>1.000000</td>\n",
       "    </tr>\n",
       "    <tr>\n",
       "      <th>11</th>\n",
       "      <td>1986</td>\n",
       "      <td>3.500000</td>\n",
       "    </tr>\n",
       "    <tr>\n",
       "      <th>12</th>\n",
       "      <td>1988</td>\n",
       "      <td>3.000000</td>\n",
       "    </tr>\n",
       "    <tr>\n",
       "      <th>13</th>\n",
       "      <td>1989</td>\n",
       "      <td>1.000000</td>\n",
       "    </tr>\n",
       "    <tr>\n",
       "      <th>14</th>\n",
       "      <td>1990</td>\n",
       "      <td>2.666667</td>\n",
       "    </tr>\n",
       "    <tr>\n",
       "      <th>15</th>\n",
       "      <td>1991</td>\n",
       "      <td>1.000000</td>\n",
       "    </tr>\n",
       "    <tr>\n",
       "      <th>16</th>\n",
       "      <td>1992</td>\n",
       "      <td>8.333333</td>\n",
       "    </tr>\n",
       "    <tr>\n",
       "      <th>17</th>\n",
       "      <td>1993</td>\n",
       "      <td>2.500000</td>\n",
       "    </tr>\n",
       "    <tr>\n",
       "      <th>18</th>\n",
       "      <td>1994</td>\n",
       "      <td>5.000000</td>\n",
       "    </tr>\n",
       "    <tr>\n",
       "      <th>19</th>\n",
       "      <td>1995</td>\n",
       "      <td>1.500000</td>\n",
       "    </tr>\n",
       "    <tr>\n",
       "      <th>20</th>\n",
       "      <td>1996</td>\n",
       "      <td>1.000000</td>\n",
       "    </tr>\n",
       "    <tr>\n",
       "      <th>21</th>\n",
       "      <td>1997</td>\n",
       "      <td>1.250000</td>\n",
       "    </tr>\n",
       "    <tr>\n",
       "      <th>22</th>\n",
       "      <td>1998</td>\n",
       "      <td>3.750000</td>\n",
       "    </tr>\n",
       "    <tr>\n",
       "      <th>23</th>\n",
       "      <td>1999</td>\n",
       "      <td>2.857143</td>\n",
       "    </tr>\n",
       "    <tr>\n",
       "      <th>24</th>\n",
       "      <td>2000</td>\n",
       "      <td>3.750000</td>\n",
       "    </tr>\n",
       "    <tr>\n",
       "      <th>25</th>\n",
       "      <td>2001</td>\n",
       "      <td>1.400000</td>\n",
       "    </tr>\n",
       "    <tr>\n",
       "      <th>26</th>\n",
       "      <td>2002</td>\n",
       "      <td>2.571429</td>\n",
       "    </tr>\n",
       "    <tr>\n",
       "      <th>27</th>\n",
       "      <td>2003</td>\n",
       "      <td>4.000000</td>\n",
       "    </tr>\n",
       "    <tr>\n",
       "      <th>28</th>\n",
       "      <td>2004</td>\n",
       "      <td>1.444444</td>\n",
       "    </tr>\n",
       "    <tr>\n",
       "      <th>29</th>\n",
       "      <td>2005</td>\n",
       "      <td>2.461538</td>\n",
       "    </tr>\n",
       "    <tr>\n",
       "      <th>30</th>\n",
       "      <td>2006</td>\n",
       "      <td>3.357143</td>\n",
       "    </tr>\n",
       "    <tr>\n",
       "      <th>31</th>\n",
       "      <td>2007</td>\n",
       "      <td>2.500000</td>\n",
       "    </tr>\n",
       "    <tr>\n",
       "      <th>32</th>\n",
       "      <td>2008</td>\n",
       "      <td>1.304348</td>\n",
       "    </tr>\n",
       "    <tr>\n",
       "      <th>33</th>\n",
       "      <td>2009</td>\n",
       "      <td>1.205882</td>\n",
       "    </tr>\n",
       "    <tr>\n",
       "      <th>34</th>\n",
       "      <td>2010</td>\n",
       "      <td>1.650000</td>\n",
       "    </tr>\n",
       "    <tr>\n",
       "      <th>35</th>\n",
       "      <td>2011</td>\n",
       "      <td>1.350000</td>\n",
       "    </tr>\n",
       "    <tr>\n",
       "      <th>36</th>\n",
       "      <td>2012</td>\n",
       "      <td>1.843750</td>\n",
       "    </tr>\n",
       "    <tr>\n",
       "      <th>37</th>\n",
       "      <td>2013</td>\n",
       "      <td>1.650794</td>\n",
       "    </tr>\n",
       "    <tr>\n",
       "      <th>38</th>\n",
       "      <td>2014</td>\n",
       "      <td>1.568182</td>\n",
       "    </tr>\n",
       "    <tr>\n",
       "      <th>39</th>\n",
       "      <td>2015</td>\n",
       "      <td>1.728395</td>\n",
       "    </tr>\n",
       "    <tr>\n",
       "      <th>40</th>\n",
       "      <td>2016</td>\n",
       "      <td>1.618852</td>\n",
       "    </tr>\n",
       "    <tr>\n",
       "      <th>41</th>\n",
       "      <td>2017</td>\n",
       "      <td>1.788679</td>\n",
       "    </tr>\n",
       "    <tr>\n",
       "      <th>42</th>\n",
       "      <td>2018</td>\n",
       "      <td>1.684211</td>\n",
       "    </tr>\n",
       "    <tr>\n",
       "      <th>43</th>\n",
       "      <td>2019</td>\n",
       "      <td>1.869018</td>\n",
       "    </tr>\n",
       "    <tr>\n",
       "      <th>44</th>\n",
       "      <td>2020</td>\n",
       "      <td>1.711009</td>\n",
       "    </tr>\n",
       "    <tr>\n",
       "      <th>45</th>\n",
       "      <td>2021</td>\n",
       "      <td>1.717460</td>\n",
       "    </tr>\n",
       "  </tbody>\n",
       "</table>\n",
       "</div>"
      ],
      "text/plain": [
       "    release_year    seasons\n",
       "0           1925   1.000000\n",
       "1           1945   1.000000\n",
       "2           1946   1.000000\n",
       "3           1963   4.000000\n",
       "4           1967   8.000000\n",
       "5           1972   1.000000\n",
       "6           1974   4.000000\n",
       "7           1977  10.000000\n",
       "8           1979   1.000000\n",
       "9           1981   1.000000\n",
       "10          1985   1.000000\n",
       "11          1986   3.500000\n",
       "12          1988   3.000000\n",
       "13          1989   1.000000\n",
       "14          1990   2.666667\n",
       "15          1991   1.000000\n",
       "16          1992   8.333333\n",
       "17          1993   2.500000\n",
       "18          1994   5.000000\n",
       "19          1995   1.500000\n",
       "20          1996   1.000000\n",
       "21          1997   1.250000\n",
       "22          1998   3.750000\n",
       "23          1999   2.857143\n",
       "24          2000   3.750000\n",
       "25          2001   1.400000\n",
       "26          2002   2.571429\n",
       "27          2003   4.000000\n",
       "28          2004   1.444444\n",
       "29          2005   2.461538\n",
       "30          2006   3.357143\n",
       "31          2007   2.500000\n",
       "32          2008   1.304348\n",
       "33          2009   1.205882\n",
       "34          2010   1.650000\n",
       "35          2011   1.350000\n",
       "36          2012   1.843750\n",
       "37          2013   1.650794\n",
       "38          2014   1.568182\n",
       "39          2015   1.728395\n",
       "40          2016   1.618852\n",
       "41          2017   1.788679\n",
       "42          2018   1.684211\n",
       "43          2019   1.869018\n",
       "44          2020   1.711009\n",
       "45          2021   1.717460"
      ]
     },
     "execution_count": 11,
     "metadata": {},
     "output_type": "execute_result"
    }
   ],
   "source": [
    "# Build averages by year\n",
    "yearly_ave = df.groupby('release_year', as_index=False)['seasons'].mean()\n",
    "yearly_ave"
   ]
  },
  {
   "cell_type": "code",
   "execution_count": 12,
   "id": "edf64fb0",
   "metadata": {},
   "outputs": [
    {
     "data": {
      "image/png": "[encoded data removed]",
      "text/plain": [
       "<Figure size 432x288 with 1 Axes>"
      ]
     },
     "metadata": {
      "needs_background": "light"
     },
     "output_type": "display_data"
    }
   ],
   "source": [
    "# Create a bar Chart of the yearly averages\n",
    "plt.bar(yearly_ave['release_year'], yearly_ave['seasons'])\n",
    "plt.xlabel('Release Year')\n",
    "plt.ylabel('Average Number of Seasons')\n",
    "plt.title('Netflix Average Number of Seasons by Release Year')\n",
    "plt.show()"
   ]
  },
  {
   "cell_type": "markdown",
   "id": "cbf42c7e",
   "metadata": {},
   "source": [
    "This final chart displays the change in the average number of seasons over time. "
   ]
  },
  {
   "cell_type": "markdown",
   "id": "6874ddf5",
   "metadata": {},
   "source": [
    "# Project Milestone 2: Data Preparation"
   ]
  },
  {
   "cell_type": "markdown",
   "id": "0c47eb48",
   "metadata": {},
   "source": [
    "## Remove unneeded features\n",
    "\n",
    "The following features will be removed:\n",
    "<ul>\n",
    "    <li> show_id - an identifier, other unique fields exist (title)\n",
    "    <li> type - after the initial sort, this field only contains \"TV Show\"\n",
    "    <li> listed_in - the netflix category will not be used in this analysis\n",
    "    <li> rating - as seen earlier in the analysis, this field has no correlation with the number of seasons\n",
    "    <li> duration - this field is now a duplicate of \"seasons\"\n"
   ]
  },
  {
   "cell_type": "code",
   "execution_count": 13,
   "id": "8c3eba10",
   "metadata": {},
   "outputs": [
    {
     "data": {
      "text/html": [
       "<div>\n",
       "<style scoped>\n",
       "    .dataframe tbody tr th:only-of-type {\n",
       "        vertical-align: middle;\n",
       "    }\n",
       "\n",
       "    .dataframe tbody tr th {\n",
       "        vertical-align: top;\n",
       "    }\n",
       "\n",
       "    .dataframe thead th {\n",
       "        text-align: right;\n",
       "    }\n",
       "</style>\n",
       "<table border=\"1\" class=\"dataframe\">\n",
       "  <thead>\n",
       "    <tr style=\"text-align: right;\">\n",
       "      <th></th>\n",
       "      <th>title</th>\n",
       "      <th>director</th>\n",
       "      <th>cast</th>\n",
       "      <th>country</th>\n",
       "      <th>date_added</th>\n",
       "      <th>release_year</th>\n",
       "      <th>description</th>\n",
       "      <th>seasons</th>\n",
       "    </tr>\n",
       "  </thead>\n",
       "  <tbody>\n",
       "    <tr>\n",
       "      <th>1</th>\n",
       "      <td>Blood &amp; Water</td>\n",
       "      <td>NaN</td>\n",
       "      <td>Ama Qamata, Khosi Ngema, Gail Mabalane, Thaban...</td>\n",
       "      <td>South Africa</td>\n",
       "      <td>September 24, 2021</td>\n",
       "      <td>2021</td>\n",
       "      <td>After crossing paths at a party, a Cape Town t...</td>\n",
       "      <td>2</td>\n",
       "    </tr>\n",
       "    <tr>\n",
       "      <th>2</th>\n",
       "      <td>Ganglands</td>\n",
       "      <td>Julien Leclercq</td>\n",
       "      <td>Sami Bouajila, Tracy Gotoas, Samuel Jouy, Nabi...</td>\n",
       "      <td>NaN</td>\n",
       "      <td>September 24, 2021</td>\n",
       "      <td>2021</td>\n",
       "      <td>To protect his family from a powerful drug lor...</td>\n",
       "      <td>1</td>\n",
       "    </tr>\n",
       "    <tr>\n",
       "      <th>3</th>\n",
       "      <td>Jailbirds New Orleans</td>\n",
       "      <td>NaN</td>\n",
       "      <td>NaN</td>\n",
       "      <td>NaN</td>\n",
       "      <td>September 24, 2021</td>\n",
       "      <td>2021</td>\n",
       "      <td>Feuds, flirtations and toilet talk go down amo...</td>\n",
       "      <td>1</td>\n",
       "    </tr>\n",
       "    <tr>\n",
       "      <th>4</th>\n",
       "      <td>Kota Factory</td>\n",
       "      <td>NaN</td>\n",
       "      <td>Mayur More, Jitendra Kumar, Ranjan Raj, Alam K...</td>\n",
       "      <td>India</td>\n",
       "      <td>September 24, 2021</td>\n",
       "      <td>2021</td>\n",
       "      <td>In a city of coaching centers known to train I...</td>\n",
       "      <td>2</td>\n",
       "    </tr>\n",
       "    <tr>\n",
       "      <th>5</th>\n",
       "      <td>Midnight Mass</td>\n",
       "      <td>Mike Flanagan</td>\n",
       "      <td>Kate Siegel, Zach Gilford, Hamish Linklater, H...</td>\n",
       "      <td>NaN</td>\n",
       "      <td>September 24, 2021</td>\n",
       "      <td>2021</td>\n",
       "      <td>The arrival of a charismatic young priest brin...</td>\n",
       "      <td>1</td>\n",
       "    </tr>\n",
       "  </tbody>\n",
       "</table>\n",
       "</div>"
      ],
      "text/plain": [
       "                   title         director  \\\n",
       "1          Blood & Water              NaN   \n",
       "2              Ganglands  Julien Leclercq   \n",
       "3  Jailbirds New Orleans              NaN   \n",
       "4           Kota Factory              NaN   \n",
       "5          Midnight Mass    Mike Flanagan   \n",
       "\n",
       "                                                cast       country  \\\n",
       "1  Ama Qamata, Khosi Ngema, Gail Mabalane, Thaban...  South Africa   \n",
       "2  Sami Bouajila, Tracy Gotoas, Samuel Jouy, Nabi...           NaN   \n",
       "3                                                NaN           NaN   \n",
       "4  Mayur More, Jitendra Kumar, Ranjan Raj, Alam K...         India   \n",
       "5  Kate Siegel, Zach Gilford, Hamish Linklater, H...           NaN   \n",
       "\n",
       "           date_added  release_year  \\\n",
       "1  September 24, 2021          2021   \n",
       "2  September 24, 2021          2021   \n",
       "3  September 24, 2021          2021   \n",
       "4  September 24, 2021          2021   \n",
       "5  September 24, 2021          2021   \n",
       "\n",
       "                                         description  seasons  \n",
       "1  After crossing paths at a party, a Cape Town t...        2  \n",
       "2  To protect his family from a powerful drug lor...        1  \n",
       "3  Feuds, flirtations and toilet talk go down amo...        1  \n",
       "4  In a city of coaching centers known to train I...        2  \n",
       "5  The arrival of a charismatic young priest brin...        1  "
      ]
     },
     "execution_count": 13,
     "metadata": {},
     "output_type": "execute_result"
    }
   ],
   "source": [
    "# Utilize the drop function to remove the unneeded columns\n",
    "df = df.drop(['show_id', 'type', 'listed_in', 'rating', 'duration'], axis=1)\n",
    "\n",
    "# Validate the transformation was successful\n",
    "df.head()"
   ]
  },
  {
   "cell_type": "markdown",
   "id": "ee1c8e61",
   "metadata": {},
   "source": [
    "# Drop shows released in the current year\n",
    "Since the number of seasons for shows that are currently running will be inaccurate, any shows released in the same year as the dataset will be dropped (2021)"
   ]
  },
  {
   "cell_type": "code",
   "execution_count": 14,
   "id": "0b30dbc8",
   "metadata": {},
   "outputs": [
    {
     "data": {
      "text/plain": [
       "array([2020, 2018, 2014, 1994, 2015, 2013, 2019, 2017, 2016, 2012, 1992,\n",
       "       2002, 2009, 2011, 2005, 2008, 2010, 2007, 2001, 2006, 1993, 1997,\n",
       "       2003, 1945, 1999, 1998, 2000, 2004, 1986, 1995, 1925, 1972, 1974,\n",
       "       1988, 1991, 1977, 1979, 1990, 1996, 1981, 1946, 1985, 1967, 1989,\n",
       "       1963], dtype=int64)"
      ]
     },
     "execution_count": 14,
     "metadata": {},
     "output_type": "execute_result"
    }
   ],
   "source": [
    "# Grab all rows where release_year is not equal to 2021\n",
    "df = df[df.release_year != 2021]\n",
    "\n",
    "# Validate the transformation\n",
    "df['release_year'].unique()"
   ]
  },
  {
   "cell_type": "markdown",
   "id": "36628d3b",
   "metadata": {},
   "source": [
    "## Clean the descriptions\n",
    "\n",
    "In this section the following steps will be applied to the movie descriptions\n",
    "<ul>\n",
    "    <li> Text will be cleaned removing punctuation and excess whitespace\n",
    "    <li> The text will be tokenized and any stop words will be removed\n",
    "    <li> NLTK's PorterStemmer will be applied"
   ]
  },
  {
   "cell_type": "code",
   "execution_count": 15,
   "id": "dd7bfb98",
   "metadata": {},
   "outputs": [],
   "source": [
    "# Load libraries\n",
    "import re\n",
    "import nltk\n",
    "from nltk.corpus import stopwords\n",
    "from nltk.tokenize import word_tokenize\n",
    "import sklearn\n",
    "from sklearn.feature_extraction.text import CountVectorizer\n",
    "from sklearn.feature_extraction.text import TfidfVectorizer\n",
    "\n",
    "# Define a function to clean the text\n",
    "def clean_text(text):\n",
    "    \"\"\"\n",
    "    Remove punctuations and special characters, makes lower case\n",
    "    Args: text \n",
    "    Output: text\n",
    "    \"\"\"    \n",
    "    text=text.lower() #makes text lowercase\n",
    "    text=re.sub('\\\\d|\\\\W+|_',' ',text) #removes extra white space\n",
    "    text=re.sub('[^a-zA-Z0-9]',\" \", text) #removes any non-alphanumeric characters\n",
    "    \n",
    "    return text\n",
    "\n",
    "# Define a function to remove any stop words and tokenize\n",
    "def tokenize_and_remove_stop_words(txt):\n",
    "    \"\"\"\n",
    "    takes in a sentence, tokenizes the words into a list,\n",
    "    and then removes stop words from the tokenized list\n",
    "    \"\"\"\n",
    "    #import the nltk package for tokenizing and removing stop words\n",
    "    import nltk\n",
    "    from nltk.tokenize import word_tokenize\n",
    "    #Note: You may have to run this next commmand to download the NLTK 'punkt' library for the first time\n",
    "    #nltk.download('punkt')\n",
    "    from nltk.corpus import stopwords\n",
    "    #Note: You may need to run this next command to download stopwords for the first time\n",
    "    #nltk.download('stopwords')\n",
    "    stop_words = stopwords.words('english')\n",
    "    \n",
    "    txt_token = word_tokenize(txt)\n",
    "    txt_no_stopwords = [word for word in txt_token if word not in stop_words]\n",
    "    \n",
    "    return txt_no_stopwords\n",
    "\n",
    "# Define a function to stem the words\n",
    "def stem_text(word_list):\n",
    "    from nltk.stem.porter import PorterStemmer\n",
    "    porter = PorterStemmer()\n",
    "    \n",
    "    return [porter.stem(word) for word in word_list]"
   ]
  },
  {
   "cell_type": "code",
   "execution_count": 16,
   "id": "4a08e315",
   "metadata": {},
   "outputs": [
    {
     "data": {
      "text/html": [
       "<div>\n",
       "<style scoped>\n",
       "    .dataframe tbody tr th:only-of-type {\n",
       "        vertical-align: middle;\n",
       "    }\n",
       "\n",
       "    .dataframe tbody tr th {\n",
       "        vertical-align: top;\n",
       "    }\n",
       "\n",
       "    .dataframe thead th {\n",
       "        text-align: right;\n",
       "    }\n",
       "</style>\n",
       "<table border=\"1\" class=\"dataframe\">\n",
       "  <thead>\n",
       "    <tr style=\"text-align: right;\">\n",
       "      <th></th>\n",
       "      <th>seasons</th>\n",
       "      <th>description</th>\n",
       "    </tr>\n",
       "  </thead>\n",
       "  <tbody>\n",
       "    <tr>\n",
       "      <th>17</th>\n",
       "      <td>2</td>\n",
       "      <td>Strangers Diego and Isabel flee their home in ...</td>\n",
       "    </tr>\n",
       "    <tr>\n",
       "      <th>21</th>\n",
       "      <td>5</td>\n",
       "      <td>When a good deed unwittingly endangers his cla...</td>\n",
       "    </tr>\n",
       "    <tr>\n",
       "      <th>32</th>\n",
       "      <td>3</td>\n",
       "      <td>Insecure Otis has all the answers when it come...</td>\n",
       "    </tr>\n",
       "    <tr>\n",
       "      <th>34</th>\n",
       "      <td>1</td>\n",
       "      <td>Tayo speeds into an adventure when his friends...</td>\n",
       "    </tr>\n",
       "    <tr>\n",
       "      <th>37</th>\n",
       "      <td>1</td>\n",
       "      <td>Birds Red, Chuck and their feathered friends h...</td>\n",
       "    </tr>\n",
       "    <tr>\n",
       "      <th>...</th>\n",
       "      <td>...</td>\n",
       "      <td>...</td>\n",
       "    </tr>\n",
       "    <tr>\n",
       "      <th>8795</th>\n",
       "      <td>2</td>\n",
       "      <td>Now that he's discovered the Pendulum Summonin...</td>\n",
       "    </tr>\n",
       "    <tr>\n",
       "      <th>8796</th>\n",
       "      <td>2</td>\n",
       "      <td>During the Mongol invasions, Yunus Emre leaves...</td>\n",
       "    </tr>\n",
       "    <tr>\n",
       "      <th>8797</th>\n",
       "      <td>3</td>\n",
       "      <td>Teen surfer Zak Storm is mysteriously transpor...</td>\n",
       "    </tr>\n",
       "    <tr>\n",
       "      <th>8800</th>\n",
       "      <td>1</td>\n",
       "      <td>Strong-willed, middle-class Kashaf and carefre...</td>\n",
       "    </tr>\n",
       "    <tr>\n",
       "      <th>8803</th>\n",
       "      <td>2</td>\n",
       "      <td>While living alone in a spooky town, a young g...</td>\n",
       "    </tr>\n",
       "  </tbody>\n",
       "</table>\n",
       "<p>2361 rows × 2 columns</p>\n",
       "</div>"
      ],
      "text/plain": [
       "      seasons                                        description\n",
       "17          2  Strangers Diego and Isabel flee their home in ...\n",
       "21          5  When a good deed unwittingly endangers his cla...\n",
       "32          3  Insecure Otis has all the answers when it come...\n",
       "34          1  Tayo speeds into an adventure when his friends...\n",
       "37          1  Birds Red, Chuck and their feathered friends h...\n",
       "...       ...                                                ...\n",
       "8795        2  Now that he's discovered the Pendulum Summonin...\n",
       "8796        2  During the Mongol invasions, Yunus Emre leaves...\n",
       "8797        3  Teen surfer Zak Storm is mysteriously transpor...\n",
       "8800        1  Strong-willed, middle-class Kashaf and carefre...\n",
       "8803        2  While living alone in a spooky town, a young g...\n",
       "\n",
       "[2361 rows x 2 columns]"
      ]
     },
     "execution_count": 16,
     "metadata": {},
     "output_type": "execute_result"
    }
   ],
   "source": [
    "# Obtain a dataframe with only the descriptions and number of seasons\n",
    "df_desc_preprocessed = df[['seasons', 'description']]\n",
    "\n",
    "# View the dataframe\n",
    "df_desc_preprocessed"
   ]
  },
  {
   "cell_type": "code",
   "execution_count": 17,
   "id": "52c210c4",
   "metadata": {},
   "outputs": [
    {
     "name": "stderr",
     "output_type": "stream",
     "text": [
      "<ipython-input-17-f7570e35b11b>:2: SettingWithCopyWarning: \n",
      "A value is trying to be set on a copy of a slice from a DataFrame.\n",
      "Try using .loc[row_indexer,col_indexer] = value instead\n",
      "\n",
      "See the caveats in the documentation: https://pandas.pydata.org/pandas-docs/stable/user_guide/indexing.html#returning-a-view-versus-a-copy\n",
      "  df_desc_preprocessed['desc_clean'] = df_desc_preprocessed['description'].apply(clean_text)\n",
      "<ipython-input-17-f7570e35b11b>:5: SettingWithCopyWarning: \n",
      "A value is trying to be set on a copy of a slice from a DataFrame.\n",
      "Try using .loc[row_indexer,col_indexer] = value instead\n",
      "\n",
      "See the caveats in the documentation: https://pandas.pydata.org/pandas-docs/stable/user_guide/indexing.html#returning-a-view-versus-a-copy\n",
      "  df_desc_preprocessed['desc_tokenized'] = df_desc_preprocessed['desc_clean'].apply(tokenize_and_remove_stop_words)\n"
     ]
    },
    {
     "name": "stdout",
     "output_type": "stream",
     "text": [
      "(2361, 6)\n"
     ]
    },
    {
     "name": "stderr",
     "output_type": "stream",
     "text": [
      "<ipython-input-17-f7570e35b11b>:8: SettingWithCopyWarning: \n",
      "A value is trying to be set on a copy of a slice from a DataFrame.\n",
      "Try using .loc[row_indexer,col_indexer] = value instead\n",
      "\n",
      "See the caveats in the documentation: https://pandas.pydata.org/pandas-docs/stable/user_guide/indexing.html#returning-a-view-versus-a-copy\n",
      "  df_desc_preprocessed['desc_stemmed'] = df_desc_preprocessed['desc_tokenized'].apply(stem_text)\n",
      "<ipython-input-17-f7570e35b11b>:11: SettingWithCopyWarning: \n",
      "A value is trying to be set on a copy of a slice from a DataFrame.\n",
      "Try using .loc[row_indexer,col_indexer] = value instead\n",
      "\n",
      "See the caveats in the documentation: https://pandas.pydata.org/pandas-docs/stable/user_guide/indexing.html#returning-a-view-versus-a-copy\n",
      "  df_desc_preprocessed['desc_final'] = df_desc_preprocessed['desc_stemmed'].apply(lambda text: ' '.join(text))\n"
     ]
    },
    {
     "data": {
      "text/html": [
       "<div>\n",
       "<style scoped>\n",
       "    .dataframe tbody tr th:only-of-type {\n",
       "        vertical-align: middle;\n",
       "    }\n",
       "\n",
       "    .dataframe tbody tr th {\n",
       "        vertical-align: top;\n",
       "    }\n",
       "\n",
       "    .dataframe thead th {\n",
       "        text-align: right;\n",
       "    }\n",
       "</style>\n",
       "<table border=\"1\" class=\"dataframe\">\n",
       "  <thead>\n",
       "    <tr style=\"text-align: right;\">\n",
       "      <th></th>\n",
       "      <th>seasons</th>\n",
       "      <th>description</th>\n",
       "      <th>desc_clean</th>\n",
       "      <th>desc_tokenized</th>\n",
       "      <th>desc_stemmed</th>\n",
       "      <th>desc_final</th>\n",
       "    </tr>\n",
       "  </thead>\n",
       "  <tbody>\n",
       "    <tr>\n",
       "      <th>17</th>\n",
       "      <td>2</td>\n",
       "      <td>Strangers Diego and Isabel flee their home in ...</td>\n",
       "      <td>strangers diego and isabel flee their home in ...</td>\n",
       "      <td>[strangers, diego, isabel, flee, home, mexico,...</td>\n",
       "      <td>[stranger, diego, isabel, flee, home, mexico, ...</td>\n",
       "      <td>stranger diego isabel flee home mexico pretend...</td>\n",
       "    </tr>\n",
       "    <tr>\n",
       "      <th>21</th>\n",
       "      <td>5</td>\n",
       "      <td>When a good deed unwittingly endangers his cla...</td>\n",
       "      <td>when a good deed unwittingly endangers his cla...</td>\n",
       "      <td>[good, deed, unwittingly, endangers, clan, th,...</td>\n",
       "      <td>[good, deed, unwittingli, endang, clan, th, ce...</td>\n",
       "      <td>good deed unwittingli endang clan th centuri t...</td>\n",
       "    </tr>\n",
       "    <tr>\n",
       "      <th>32</th>\n",
       "      <td>3</td>\n",
       "      <td>Insecure Otis has all the answers when it come...</td>\n",
       "      <td>insecure otis has all the answers when it come...</td>\n",
       "      <td>[insecure, otis, answers, comes, sex, advice, ...</td>\n",
       "      <td>[insecur, oti, answer, come, sex, advic, thank...</td>\n",
       "      <td>insecur oti answer come sex advic thank therap...</td>\n",
       "    </tr>\n",
       "    <tr>\n",
       "      <th>34</th>\n",
       "      <td>1</td>\n",
       "      <td>Tayo speeds into an adventure when his friends...</td>\n",
       "      <td>tayo speeds into an adventure when his friends...</td>\n",
       "      <td>[tayo, speeds, adventure, friends, get, kidnap...</td>\n",
       "      <td>[tayo, speed, adventur, friend, get, kidnap, e...</td>\n",
       "      <td>tayo speed adventur friend get kidnap evil mag...</td>\n",
       "    </tr>\n",
       "    <tr>\n",
       "      <th>37</th>\n",
       "      <td>1</td>\n",
       "      <td>Birds Red, Chuck and their feathered friends h...</td>\n",
       "      <td>birds red chuck and their feathered friends ha...</td>\n",
       "      <td>[birds, red, chuck, feathered, friends, lots, ...</td>\n",
       "      <td>[bird, red, chuck, feather, friend, lot, adven...</td>\n",
       "      <td>bird red chuck feather friend lot adventur gua...</td>\n",
       "    </tr>\n",
       "  </tbody>\n",
       "</table>\n",
       "</div>"
      ],
      "text/plain": [
       "    seasons                                        description  \\\n",
       "17        2  Strangers Diego and Isabel flee their home in ...   \n",
       "21        5  When a good deed unwittingly endangers his cla...   \n",
       "32        3  Insecure Otis has all the answers when it come...   \n",
       "34        1  Tayo speeds into an adventure when his friends...   \n",
       "37        1  Birds Red, Chuck and their feathered friends h...   \n",
       "\n",
       "                                           desc_clean  \\\n",
       "17  strangers diego and isabel flee their home in ...   \n",
       "21  when a good deed unwittingly endangers his cla...   \n",
       "32  insecure otis has all the answers when it come...   \n",
       "34  tayo speeds into an adventure when his friends...   \n",
       "37  birds red chuck and their feathered friends ha...   \n",
       "\n",
       "                                       desc_tokenized  \\\n",
       "17  [strangers, diego, isabel, flee, home, mexico,...   \n",
       "21  [good, deed, unwittingly, endangers, clan, th,...   \n",
       "32  [insecure, otis, answers, comes, sex, advice, ...   \n",
       "34  [tayo, speeds, adventure, friends, get, kidnap...   \n",
       "37  [birds, red, chuck, feathered, friends, lots, ...   \n",
       "\n",
       "                                         desc_stemmed  \\\n",
       "17  [stranger, diego, isabel, flee, home, mexico, ...   \n",
       "21  [good, deed, unwittingli, endang, clan, th, ce...   \n",
       "32  [insecur, oti, answer, come, sex, advic, thank...   \n",
       "34  [tayo, speed, adventur, friend, get, kidnap, e...   \n",
       "37  [bird, red, chuck, feather, friend, lot, adven...   \n",
       "\n",
       "                                           desc_final  \n",
       "17  stranger diego isabel flee home mexico pretend...  \n",
       "21  good deed unwittingli endang clan th centuri t...  \n",
       "32  insecur oti answer come sex advic thank therap...  \n",
       "34  tayo speed adventur friend get kidnap evil mag...  \n",
       "37  bird red chuck feather friend lot adventur gua...  "
      ]
     },
     "execution_count": 17,
     "metadata": {},
     "output_type": "execute_result"
    }
   ],
   "source": [
    "# Apply the clean_text function\n",
    "df_desc_preprocessed['desc_clean'] = df_desc_preprocessed['description'].apply(clean_text)\n",
    "\n",
    "# Apply the tokenize_and_remove_stop_words function\n",
    "df_desc_preprocessed['desc_tokenized'] = df_desc_preprocessed['desc_clean'].apply(tokenize_and_remove_stop_words)\n",
    "\n",
    "# Apply the stem_text function\n",
    "df_desc_preprocessed['desc_stemmed'] = df_desc_preprocessed['desc_tokenized'].apply(stem_text)\n",
    "\n",
    "# Put the text back together (untokenize)\n",
    "df_desc_preprocessed['desc_final'] = df_desc_preprocessed['desc_stemmed'].apply(lambda text: ' '.join(text))\n",
    "\n",
    "# View the pre-processed text\n",
    "print(df_desc_preprocessed.shape)\n",
    "df_desc_preprocessed.head()"
   ]
  },
  {
   "cell_type": "markdown",
   "id": "7f7ab6e5",
   "metadata": {},
   "source": [
    "## Create final data set"
   ]
  },
  {
   "cell_type": "code",
   "execution_count": 18,
   "id": "a16190b5",
   "metadata": {},
   "outputs": [],
   "source": [
    "# Create empty data frame\n",
    "df_final = pd.DataFrame()"
   ]
  },
  {
   "cell_type": "code",
   "execution_count": 19,
   "id": "2c2a1006",
   "metadata": {},
   "outputs": [],
   "source": [
    "# Add seasons to the final data frame\n",
    "df_final['Seasons'] = df_desc_preprocessed['seasons']\n",
    "\n",
    "# Add the release year to the data frame\n",
    "df_final['Release Year'] = df['release_year']\n",
    "\n",
    "# Add the final description to the data frame\n",
    "df_final['Description'] = df_desc_preprocessed['desc_final']"
   ]
  },
  {
   "cell_type": "code",
   "execution_count": 20,
   "id": "ff612689",
   "metadata": {},
   "outputs": [],
   "source": [
    "# Create a field for more than one season \n",
    "# Note: This alerteration was done after project milestone 3 as the previous model never predicted a show will last\n",
    "    # for more than one season\n",
    "df_final['Multiple Seasons'] = np.where(df_final['Seasons']>1, 1, 0)"
   ]
  },
  {
   "cell_type": "code",
   "execution_count": 22,
   "id": "7cfb7bb4",
   "metadata": {},
   "outputs": [],
   "source": [
    "# Drop the seasons field\n",
    "df_final = df_final.drop(['Seasons'], axis=1)"
   ]
  },
  {
   "cell_type": "code",
   "execution_count": 23,
   "id": "7aae021d",
   "metadata": {},
   "outputs": [
    {
     "data": {
      "text/html": [
       "<div>\n",
       "<style scoped>\n",
       "    .dataframe tbody tr th:only-of-type {\n",
       "        vertical-align: middle;\n",
       "    }\n",
       "\n",
       "    .dataframe tbody tr th {\n",
       "        vertical-align: top;\n",
       "    }\n",
       "\n",
       "    .dataframe thead th {\n",
       "        text-align: right;\n",
       "    }\n",
       "</style>\n",
       "<table border=\"1\" class=\"dataframe\">\n",
       "  <thead>\n",
       "    <tr style=\"text-align: right;\">\n",
       "      <th></th>\n",
       "      <th>Release Year</th>\n",
       "      <th>Description</th>\n",
       "      <th>Multiple Seasons</th>\n",
       "    </tr>\n",
       "  </thead>\n",
       "  <tbody>\n",
       "    <tr>\n",
       "      <th>17</th>\n",
       "      <td>2020</td>\n",
       "      <td>stranger diego isabel flee home mexico pretend...</td>\n",
       "      <td>1</td>\n",
       "    </tr>\n",
       "    <tr>\n",
       "      <th>21</th>\n",
       "      <td>2018</td>\n",
       "      <td>good deed unwittingli endang clan th centuri t...</td>\n",
       "      <td>1</td>\n",
       "    </tr>\n",
       "    <tr>\n",
       "      <th>32</th>\n",
       "      <td>2020</td>\n",
       "      <td>insecur oti answer come sex advic thank therap...</td>\n",
       "      <td>1</td>\n",
       "    </tr>\n",
       "    <tr>\n",
       "      <th>34</th>\n",
       "      <td>2020</td>\n",
       "      <td>tayo speed adventur friend get kidnap evil mag...</td>\n",
       "      <td>0</td>\n",
       "    </tr>\n",
       "    <tr>\n",
       "      <th>37</th>\n",
       "      <td>2018</td>\n",
       "      <td>bird red chuck feather friend lot adventur gua...</td>\n",
       "      <td>0</td>\n",
       "    </tr>\n",
       "  </tbody>\n",
       "</table>\n",
       "</div>"
      ],
      "text/plain": [
       "    Release Year                                        Description  \\\n",
       "17          2020  stranger diego isabel flee home mexico pretend...   \n",
       "21          2018  good deed unwittingli endang clan th centuri t...   \n",
       "32          2020  insecur oti answer come sex advic thank therap...   \n",
       "34          2020  tayo speed adventur friend get kidnap evil mag...   \n",
       "37          2018  bird red chuck feather friend lot adventur gua...   \n",
       "\n",
       "    Multiple Seasons  \n",
       "17                 1  \n",
       "21                 1  \n",
       "32                 1  \n",
       "34                 0  \n",
       "37                 0  "
      ]
     },
     "execution_count": 23,
     "metadata": {},
     "output_type": "execute_result"
    }
   ],
   "source": [
    "# View the dataframe\n",
    "df_final.head()"
   ]
  },
  {
   "cell_type": "markdown",
   "id": "d3d6f848",
   "metadata": {},
   "source": [
    "## Split this into a training and test set"
   ]
  },
  {
   "cell_type": "code",
   "execution_count": 24,
   "id": "9beca26b",
   "metadata": {},
   "outputs": [],
   "source": [
    "# Split into training & test sets\n",
    "\n",
    "# Import library\n",
    "from sklearn.model_selection import train_test_split\n",
    "\n",
    "x = df_final[['Description', 'Release Year']]\n",
    "y = df_final['Multiple Seasons']\n",
    "\n",
    "# Create training & test datasets\n",
    "x_train, x_test, y_train, y_test = train_test_split(x, y, test_size = 0.2)"
   ]
  },
  {
   "cell_type": "markdown",
   "id": "d026a199",
   "metadata": {},
   "source": [
    "## Fit and apply the tf-idf vectorization to the training set"
   ]
  },
  {
   "cell_type": "code",
   "execution_count": 25,
   "id": "baf6a2b2",
   "metadata": {},
   "outputs": [],
   "source": [
    "# Establish TFIDFVectorizer\n",
    "v = TfidfVectorizer()\n",
    "\n",
    "# Fit & transform the description in the x_train data\n",
    "tfidf_xtrain = v.fit_transform(x_train['Description'])\n",
    "\n",
    "# Create a dataframe for the x_train tfidf vectorization\n",
    "x_train_tfidf = pd.DataFrame(tfidf_xtrain.toarray(), columns=v.get_feature_names())"
   ]
  },
  {
   "cell_type": "markdown",
   "id": "8cffe195",
   "metadata": {},
   "source": [
    "## Apply the tf-idf vectorization to the test set"
   ]
  },
  {
   "cell_type": "code",
   "execution_count": 26,
   "id": "6c35a1be",
   "metadata": {},
   "outputs": [],
   "source": [
    "# Apply the tf-idf vectorization\n",
    "tfidf_xtest = v.transform(x_test['Description'])\n",
    "\n",
    "# Create a dataframe for the x_test tfidf vectorization\n",
    "x_test_tfidf = pd.DataFrame(tfidf_xtest.toarray(), columns=v.get_feature_names())"
   ]
  },
  {
   "cell_type": "code",
   "execution_count": 27,
   "id": "6f43d0b7",
   "metadata": {},
   "outputs": [],
   "source": [
    "# The descriptions can now be dropped in both test and train datasets\n",
    "x_test = x_test.drop(['Description'], axis=1)\n",
    "x_train = x_train.drop(['Description'], axis=1)"
   ]
  },
  {
   "cell_type": "code",
   "execution_count": 28,
   "id": "cd7b7b44",
   "metadata": {},
   "outputs": [],
   "source": [
    "# Obtain column names\n",
    "tfidf_headers = x_test_tfidf.columns\n",
    "x_headers = x_train.columns\n",
    "\n",
    "# Remove indexes\n",
    "x_train.reset_index(drop=True, inplace=True)\n",
    "x_test.reset_index(drop=True, inplace=True)\n",
    "x_train_tfidf.reset_index(drop=True, inplace=True)\n",
    "x_test_tfidf.reset_index(drop=True, inplace=True)\n",
    "\n",
    "# Add column names\n",
    "x_train.columns = x_headers\n",
    "x_test.columns = x_headers\n",
    "x_train_tfidf.columns = tfidf_headers\n",
    "x_test_tfidf.columns = tfidf_headers"
   ]
  },
  {
   "cell_type": "code",
   "execution_count": 29,
   "id": "1ccacaa8",
   "metadata": {},
   "outputs": [],
   "source": [
    "# Merge the two train dataframes\n",
    "x_train = pd.concat([x_train, x_train_tfidf], axis=1)\n",
    "x_test = pd.concat([x_test, x_test_tfidf], axis=1)"
   ]
  },
  {
   "cell_type": "markdown",
   "id": "f1193e36",
   "metadata": {},
   "source": [
    "# Project Milestone 3: Model Building and Evaluation"
   ]
  },
  {
   "cell_type": "markdown",
   "id": "f0b7525c",
   "metadata": {},
   "source": [
    "KNN will be the first model to be evaluated. This model was selected first since the dataset contains descriptions and release dates. The assumption with the first model is that whats popular (more likely to have multiple seasons) will change over time and grouping like shows together may allow for a better prediction.\n",
    "\n",
    "Note: Project milestone 2 has been updated to include the release year and transform the tfidf vectorization matrix into a dataframe"
   ]
  },
  {
   "cell_type": "code",
   "execution_count": 30,
   "id": "377cc776",
   "metadata": {},
   "outputs": [],
   "source": [
    "# Load libraries\n",
    "from sklearn.neighbors import KNeighborsClassifier\n",
    "from sklearn.preprocessing import StandardScaler\n",
    "from sklearn.pipeline import Pipeline, FeatureUnion\n",
    "from sklearn.model_selection import GridSearchCV\n",
    "\n",
    "# Create standardizer\n",
    "standardizer = StandardScaler()\n",
    "\n",
    "# Standardize features\n",
    "x_train = standardizer.fit_transform(x_train)\n",
    "x_test = standardizer.transform(x_test)\n",
    "\n",
    "# Create a KNN classifier\n",
    "knn = KNeighborsClassifier(n_neighbors=4, n_jobs=-1)\n",
    "\n",
    "# Create a pipeline\n",
    "pipe = Pipeline([(\"standardizer\", standardizer), (\"knn\", knn)])"
   ]
  },
  {
   "cell_type": "code",
   "execution_count": 31,
   "id": "2b58c033",
   "metadata": {},
   "outputs": [
    {
     "data": {
      "text/plain": [
       "Pipeline(steps=[('standardizer', StandardScaler()),\n",
       "                ('knn', KNeighborsClassifier(n_jobs=-1, n_neighbors=4))])"
      ]
     },
     "execution_count": 31,
     "metadata": {},
     "output_type": "execute_result"
    }
   ],
   "source": [
    "# Fit the pipeline\n",
    "pipe.fit(x_train, y_train)"
   ]
  },
  {
   "cell_type": "code",
   "execution_count": 32,
   "id": "002e9bdd",
   "metadata": {},
   "outputs": [
    {
     "data": {
      "text/plain": [
       "0.6701902748414377"
      ]
     },
     "execution_count": 32,
     "metadata": {},
     "output_type": "execute_result"
    }
   ],
   "source": [
    "# Load libraries\n",
    "from sklearn.metrics import accuracy_score\n",
    "\n",
    "# Build predictions\n",
    "pipe_pred = pipe.predict(x_test)\n",
    "\n",
    "# Calculate accuracy\n",
    "accuracy_score(y_test, pipe_pred)"
   ]
  },
  {
   "cell_type": "markdown",
   "id": "bc039fa9",
   "metadata": {},
   "source": [
    "The first model is 67% accurate. Next a better fit for the number of neighbors will be explored"
   ]
  },
  {
   "cell_type": "code",
   "execution_count": 33,
   "id": "0451347a",
   "metadata": {},
   "outputs": [],
   "source": [
    "# Create a search space for the number of neighbors\n",
    "search_space = [{\"knn__n_neighbors\": [1, 2, 3, 4, 5, 6, 7, 8, 9, 10, 11, 12, 13, 14, 15, 16, 17,\n",
    "                                     18, 19, 20, 21, 22, 23, 24, 25]}]"
   ]
  },
  {
   "cell_type": "code",
   "execution_count": 34,
   "id": "de34c33c",
   "metadata": {},
   "outputs": [],
   "source": [
    "# Create grid search\n",
    "classifier = GridSearchCV(pipe, search_space, cv=5, verbose=0).fit(x_train, y_train)"
   ]
  },
  {
   "cell_type": "code",
   "execution_count": 35,
   "id": "c7179f0c",
   "metadata": {},
   "outputs": [
    {
     "data": {
      "text/plain": [
       "16"
      ]
     },
     "execution_count": 35,
     "metadata": {},
     "output_type": "execute_result"
    }
   ],
   "source": [
    "# Find the best value\n",
    "classifier.best_estimator_.get_params()[\"knn__n_neighbors\"]"
   ]
  },
  {
   "cell_type": "code",
   "execution_count": 36,
   "id": "2a845eec",
   "metadata": {},
   "outputs": [
    {
     "data": {
      "text/plain": [
       "0.6744186046511628"
      ]
     },
     "execution_count": 36,
     "metadata": {},
     "output_type": "execute_result"
    }
   ],
   "source": [
    "# Build predictions\n",
    "classifier_pred = classifier.predict(x_test)\n",
    "\n",
    "# Calculate accuracy\n",
    "accuracy_score(y_test, classifier_pred)"
   ]
  },
  {
   "cell_type": "markdown",
   "id": "d3e8a39a",
   "metadata": {},
   "source": [
    "The better fit for the number of neighbors (16) only improved the model by .4%. \n",
    "\n",
    "Next logistic regression and random forest models will be evaluated."
   ]
  },
  {
   "cell_type": "code",
   "execution_count": 37,
   "id": "0272a130",
   "metadata": {},
   "outputs": [
    {
     "data": {
      "text/plain": [
       "Pipeline(steps=[('classifier', RandomForestClassifier())])"
      ]
     },
     "execution_count": 37,
     "metadata": {},
     "output_type": "execute_result"
    }
   ],
   "source": [
    "# Load libraries\n",
    "import numpy as np\n",
    "from sklearn.linear_model import LogisticRegression\n",
    "from sklearn.ensemble import RandomForestClassifier\n",
    "\n",
    "# Build new search space\n",
    "search_space2 = [{\"classifier\": [LogisticRegression()], \n",
    "                  \"classifier__penalty\": ['l2'],\n",
    "                  \"classifier__C\": np.logspace(0, 4, 10)}, \n",
    "                 {\"classifier\": [RandomForestClassifier()], \n",
    "                  \"classifier__n_estimators\": [10, 100, 1000], \n",
    "                  \"classifier__max_features\": [1, 2, 3]}]\n",
    "\n",
    "# Build new pipeline\n",
    "pipe2 = Pipeline([(\"classifier\", RandomForestClassifier())])\n",
    "\n",
    "# Fit the pipeline\n",
    "pipe2.fit(x_train, y_train)"
   ]
  },
  {
   "cell_type": "code",
   "execution_count": 38,
   "id": "d274763e",
   "metadata": {},
   "outputs": [],
   "source": [
    "# Create grid search\n",
    "classifier2 = GridSearchCV(pipe2, search_space2, cv=5, verbose=0, n_jobs=-1).fit(x_train, y_train)"
   ]
  },
  {
   "cell_type": "code",
   "execution_count": 39,
   "id": "3180141e",
   "metadata": {},
   "outputs": [
    {
     "data": {
      "text/plain": [
       "RandomForestClassifier(max_features=1, n_estimators=1000)"
      ]
     },
     "execution_count": 39,
     "metadata": {},
     "output_type": "execute_result"
    }
   ],
   "source": [
    "# View the best model\n",
    "classifier2.best_estimator_.get_params()[\"classifier\"]"
   ]
  },
  {
   "cell_type": "code",
   "execution_count": 40,
   "id": "d2d7d275",
   "metadata": {},
   "outputs": [
    {
     "data": {
      "text/plain": [
       "0.6744186046511628"
      ]
     },
     "execution_count": 40,
     "metadata": {},
     "output_type": "execute_result"
    }
   ],
   "source": [
    "# Build predictions\n",
    "classifier2_pred = classifier2.predict(x_test)\n",
    "\n",
    "# Calculate accuracy\n",
    "accuracy_score(y_test, classifier2_pred)"
   ]
  },
  {
   "cell_type": "markdown",
   "id": "e4f91cc5",
   "metadata": {},
   "source": [
    "The random forest model is equally as accurate as the KNN model. However, with the vast amount of shows that only last for one season, the models found that the best solution is to predict one season for all shows. Due to this the model is not successful in predicting when a show will last for more than a season. Additional data is needed for exploration for a new model."
   ]
  },
  {
   "cell_type": "code",
   "execution_count": 42,
   "id": "7c692e3b",
   "metadata": {},
   "outputs": [
    {
     "data": {
      "text/plain": [
       "array([0, 1])"
      ]
     },
     "execution_count": 42,
     "metadata": {},
     "output_type": "execute_result"
    }
   ],
   "source": [
    "np.unique(classifier2_pred)"
   ]
  },
  {
   "cell_type": "code",
   "execution_count": 44,
   "id": "fecc0166",
   "metadata": {},
   "outputs": [
    {
     "data": {
      "image/png": "[encoded data removed]",
      "text/plain": [
       "<Figure size 432x288 with 1 Axes>"
      ]
     },
     "metadata": {
      "needs_background": "light"
     },
     "output_type": "display_data"
    }
   ],
   "source": [
    "# Load libraries\n",
    "from sklearn.metrics import confusion_matrix\n",
    "import seaborn as sns\n",
    "\n",
    "# Create confusion matrix\n",
    "matrix = confusion_matrix(y_test, classifier2_pred)\n",
    "\n",
    "# Create pandas dataframe\n",
    "c_df = pd.DataFrame(matrix)\n",
    "\n",
    "# Create heatmap\n",
    "sns.heatmap(c_df, annot=True, cbar=None, cmap=\"Blues\")\n",
    "plt.title(\"Random Forest Confusion Matrix\"), plt.tight_layout()\n",
    "plt.ylabel(\"True Class\"), plt.xlabel(\"Predicted Class\")\n",
    "plt.show()"
   ]
  }
 ],
 "metadata": {
  "kernelspec": {
   "display_name": "Python 3",
   "language": "python",
   "name": "python3"
  },
  "language_info": {
   "codemirror_mode": {
    "name": "ipython",
    "version": 3
   },
   "file_extension": ".py",
   "mimetype": "text/x-python",
   "name": "python",
   "nbconvert_exporter": "python",
   "pygments_lexer": "ipython3",
   "version": "3.8.8"
  }
 },
 "nbformat": 4,
 "nbformat_minor": 5
}
